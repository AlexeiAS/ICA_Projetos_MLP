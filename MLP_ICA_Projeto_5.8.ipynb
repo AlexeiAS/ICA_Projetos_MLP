{
 "cells": [
  {
   "cell_type": "markdown",
   "metadata": {},
   "source": [
    "#### Alexei Alves de Souza - 398611\n",
    "#### Nessa atividade irei utilizar o classificador MLP desenvolvido na cadeira de mineração de dados, o qual é baseado no algoritimo apresentado no livro Python Machine Learning de Sebastian Raschka e Vahid Mirjalili."
   ]
  },
  {
   "cell_type": "code",
   "execution_count": 51,
   "metadata": {},
   "outputs": [],
   "source": [
    "# inicializacao\n",
    "from random import seed\n",
    "from random import random\n",
    "\n",
    "def inicializarMLP(n_inputs,n_hidden,n_output):\n",
    "    network = list()\n",
    "    hidden_layer = [{'weights':[random() for i in range(n_inputs+1)]} for i in range(n_hidden)]\n",
    "    network.append(hidden_layer)\n",
    "    output_layer = [{'weights':[random() for i in range(n_hidden+1)]} for i in range(n_output)]\n",
    "    network.append(output_layer)\n",
    "    return network"
   ]
  },
  {
   "cell_type": "code",
   "execution_count": 33,
   "metadata": {},
   "outputs": [],
   "source": [
    "from math import exp\n",
    "\n",
    "# Propagação \n",
    "\n",
    "# net = sum(weight_i * input_i) + 1*bias\n",
    "\n",
    "def ativacao(weights,input):\n",
    "    net = weights[-1]\n",
    "    for i in range(len(weights)-1):\n",
    "        net += weights[i]*input[i]\n",
    "    return net\n",
    "\n",
    "\n",
    "# f_net \n",
    "def f_net(net):\n",
    "    return 1.0/(1.0 + exp(-net))\n",
    "\n",
    "\n",
    "# propagação \n",
    "def forward_propagate(network,row):\n",
    "    inputs = row\n",
    "\n",
    "    for layer in network:\n",
    "        new_inputs = []\n",
    "        for neuron in layer:\n",
    "            activation = ativacao(neuron['weights'],inputs)\n",
    "            neuron['output'] = f_net(activation)\n",
    "            new_inputs.append(neuron['output'])\n",
    "        inputs = new_inputs\n",
    "    return inputs\n",
    "\n",
    "\n",
    "# Derivada Sigmoide\n",
    "def transfer_derivative(y_hat):\n",
    "    return y_hat * (1.0 - y_hat)\n",
    "\n",
    "\n",
    "# Backpropagation,erro \n",
    "def backward_propagate_error(network,expected):\n",
    "    for i in reversed(range(len(network))):\n",
    "        layer = network[i]\n",
    "        errors = list()\n",
    "        if i != len(network)-1:\n",
    "            for j in range(len(layer)):\n",
    "                error = 0.0\n",
    "                for neuron in network[i+1]:\n",
    "                    error += (neuron['weights'][j] * neuron['delta'])  \n",
    "                errors.append(error)\n",
    "        else:\n",
    "            for j in range(len(layer)):\n",
    "                neuron = layer[j]\n",
    "                # erro = y - y_hat\n",
    "                errors.append(expected[j] - neuron['output'])\n",
    "        for j in range(len(layer)):\n",
    "            neuron = layer[j]  \n",
    "            neuron['delta'] = errors[j] * transfer_derivative(neuron['output'])\n",
    "\n",
    "\n",
    "# weight = weight + taxa_aprendizagem * erro * input\n",
    "def atualiza_pesos(network,row, tx_aprend):\n",
    "    for i in range(len(network)):\n",
    "        inputs = row[:-3]\n",
    "        if i!=0:\n",
    "            inputs = [neuron['output'] for neuron in network[i-1]]\n",
    "        for neuron in network[i]:\n",
    "            for j in range(len(inputs)):\n",
    "                neuron['weights'][j] += tx_aprend*neuron['delta']*inputs[j]\n",
    "            neuron['weights'][-1] += tx_aprend * neuron['delta']\n",
    "            \n",
    "\n",
    "#Treinamento\n",
    "def treinar_rede(network,train, tx_aprend,n_epoch,n_outputs):\n",
    "    errors = []\n",
    "    for epoch in range(n_epoch):\n",
    "        sum_error = 0\n",
    "        for row in train:\n",
    "            outputs = forward_propagate(network,row)\n",
    "            expected = [0 for i in range(n_outputs)]\n",
    "            expected[0] = row[-1]\n",
    "            sum_error += sum([(expected[i]-outputs[i])**2 for i in range(len(expected))])\n",
    "            backward_propagate_error(network,expected)\n",
    "            atualiza_pesos(network,row, tx_aprend)\n",
    "        if epoch%10 == 0:\n",
    "            print('>epoch=%d, txAprend=%.3f, erro=%.3f'%(epoch,tx_aprend,sum_error))\n",
    "        errors.append(sum_error)\n",
    "    return errors"
   ]
  },
  {
   "cell_type": "code",
   "execution_count": null,
   "metadata": {},
   "outputs": [],
   "source": []
  },
  {
   "cell_type": "markdown",
   "metadata": {},
   "source": [
    "#### Carrega a tabela do excel utilizando a lib pandas"
   ]
  },
  {
   "cell_type": "code",
   "execution_count": 4,
   "metadata": {},
   "outputs": [],
   "source": [
    "import pandas as pd\n",
    "import numpy as np\n",
    "from sklearn.neural_network import MLPClassifier"
   ]
  },
  {
   "cell_type": "code",
   "execution_count": 5,
   "metadata": {},
   "outputs": [
    {
     "data": {
      "text/html": [
       "<div>\n",
       "<style scoped>\n",
       "    .dataframe tbody tr th:only-of-type {\n",
       "        vertical-align: middle;\n",
       "    }\n",
       "\n",
       "    .dataframe tbody tr th {\n",
       "        vertical-align: top;\n",
       "    }\n",
       "\n",
       "    .dataframe thead th {\n",
       "        text-align: right;\n",
       "    }\n",
       "</style>\n",
       "<table border=\"1\" class=\"dataframe\">\n",
       "  <thead>\n",
       "    <tr style=\"text-align: right;\">\n",
       "      <th></th>\n",
       "      <th>x1</th>\n",
       "      <th>x2</th>\n",
       "      <th>x3</th>\n",
       "      <th>d</th>\n",
       "    </tr>\n",
       "  </thead>\n",
       "  <tbody>\n",
       "    <tr>\n",
       "      <th>0</th>\n",
       "      <td>0.0611</td>\n",
       "      <td>0.2860</td>\n",
       "      <td>0.7464</td>\n",
       "      <td>0.4831</td>\n",
       "    </tr>\n",
       "    <tr>\n",
       "      <th>1</th>\n",
       "      <td>0.5102</td>\n",
       "      <td>0.7464</td>\n",
       "      <td>0.0860</td>\n",
       "      <td>0.5965</td>\n",
       "    </tr>\n",
       "    <tr>\n",
       "      <th>2</th>\n",
       "      <td>0.0004</td>\n",
       "      <td>0.6916</td>\n",
       "      <td>0.5006</td>\n",
       "      <td>0.5318</td>\n",
       "    </tr>\n",
       "    <tr>\n",
       "      <th>3</th>\n",
       "      <td>0.9430</td>\n",
       "      <td>0.4476</td>\n",
       "      <td>0.2648</td>\n",
       "      <td>0.6843</td>\n",
       "    </tr>\n",
       "    <tr>\n",
       "      <th>4</th>\n",
       "      <td>0.1399</td>\n",
       "      <td>0.1610</td>\n",
       "      <td>0.2477</td>\n",
       "      <td>0.2872</td>\n",
       "    </tr>\n",
       "  </tbody>\n",
       "</table>\n",
       "</div>"
      ],
      "text/plain": [
       "       x1      x2      x3       d\n",
       "0  0.0611  0.2860  0.7464  0.4831\n",
       "1  0.5102  0.7464  0.0860  0.5965\n",
       "2  0.0004  0.6916  0.5006  0.5318\n",
       "3  0.9430  0.4476  0.2648  0.6843\n",
       "4  0.1399  0.1610  0.2477  0.2872"
      ]
     },
     "execution_count": 5,
     "metadata": {},
     "output_type": "execute_result"
    }
   ],
   "source": [
    "dataset = pd.read_excel('Tabela#5.3_RNA.xls')\n",
    "dataset.head(5)"
   ]
  },
  {
   "cell_type": "code",
   "execution_count": 67,
   "metadata": {},
   "outputs": [],
   "source": [
    "dataset = np.array(dataset)\n",
    "#inputs = data[:,0:3]\n",
    "#labels = data[:,3]"
   ]
  },
  {
   "cell_type": "markdown",
   "metadata": {},
   "source": [
    "### 1) ---->"
   ]
  },
  {
   "cell_type": "markdown",
   "metadata": {},
   "source": [
    "##### Treino para 100 epocas"
   ]
  },
  {
   "cell_type": "code",
   "execution_count": 57,
   "metadata": {},
   "outputs": [],
   "source": [
    "MLP1 = inicializarMLP(3,10,1)"
   ]
  },
  {
   "cell_type": "code",
   "execution_count": 58,
   "metadata": {},
   "outputs": [
    {
     "name": "stdout",
     "output_type": "stream",
     "text": [
      ">epoch=0, txAprend=0.100, erro=3.444\n",
      ">epoch=10, txAprend=0.100, erro=3.313\n",
      ">epoch=20, txAprend=0.100, erro=2.138\n",
      ">epoch=30, txAprend=0.100, erro=0.411\n",
      ">epoch=40, txAprend=0.100, erro=0.407\n",
      ">epoch=50, txAprend=0.100, erro=0.402\n",
      ">epoch=60, txAprend=0.100, erro=0.398\n",
      ">epoch=70, txAprend=0.100, erro=0.394\n",
      ">epoch=80, txAprend=0.100, erro=0.390\n",
      ">epoch=90, txAprend=0.100, erro=0.385\n"
     ]
    }
   ],
   "source": [
    "errors1= treinar_rede(MLP1,dataset, 0.1,100,1)"
   ]
  },
  {
   "cell_type": "markdown",
   "metadata": {},
   "source": [
    "##### Treino para 200 epocas"
   ]
  },
  {
   "cell_type": "code",
   "execution_count": 19,
   "metadata": {},
   "outputs": [],
   "source": [
    "MLP2 = inicializarMLP(3,10,1)"
   ]
  },
  {
   "cell_type": "code",
   "execution_count": 39,
   "metadata": {},
   "outputs": [
    {
     "name": "stdout",
     "output_type": "stream",
     "text": [
      ">epoch=0, txAprend=0.100, erro=0.373\n",
      ">epoch=10, txAprend=0.100, erro=0.369\n",
      ">epoch=20, txAprend=0.100, erro=0.364\n",
      ">epoch=30, txAprend=0.100, erro=0.360\n",
      ">epoch=40, txAprend=0.100, erro=0.356\n",
      ">epoch=50, txAprend=0.100, erro=0.352\n",
      ">epoch=60, txAprend=0.100, erro=0.348\n",
      ">epoch=70, txAprend=0.100, erro=0.343\n",
      ">epoch=80, txAprend=0.100, erro=0.339\n",
      ">epoch=90, txAprend=0.100, erro=0.335\n",
      ">epoch=100, txAprend=0.100, erro=0.330\n",
      ">epoch=110, txAprend=0.100, erro=0.326\n",
      ">epoch=120, txAprend=0.100, erro=0.321\n",
      ">epoch=130, txAprend=0.100, erro=0.317\n",
      ">epoch=140, txAprend=0.100, erro=0.312\n",
      ">epoch=150, txAprend=0.100, erro=0.308\n",
      ">epoch=160, txAprend=0.100, erro=0.303\n",
      ">epoch=170, txAprend=0.100, erro=0.298\n",
      ">epoch=180, txAprend=0.100, erro=0.294\n",
      ">epoch=190, txAprend=0.100, erro=0.289\n"
     ]
    }
   ],
   "source": [
    "errors2= treinar_rede(MLP2,dataset, 0.1,200,1)"
   ]
  },
  {
   "cell_type": "markdown",
   "metadata": {},
   "source": [
    "##### Treino para 300 epocas"
   ]
  },
  {
   "cell_type": "code",
   "execution_count": 21,
   "metadata": {},
   "outputs": [],
   "source": [
    "MLP3 = inicializarMLP(3,10,1)"
   ]
  },
  {
   "cell_type": "code",
   "execution_count": 40,
   "metadata": {},
   "outputs": [
    {
     "name": "stdout",
     "output_type": "stream",
     "text": [
      ">epoch=0, txAprend=0.100, erro=0.317\n",
      ">epoch=10, txAprend=0.100, erro=0.314\n",
      ">epoch=20, txAprend=0.100, erro=0.311\n",
      ">epoch=30, txAprend=0.100, erro=0.307\n",
      ">epoch=40, txAprend=0.100, erro=0.304\n",
      ">epoch=50, txAprend=0.100, erro=0.300\n",
      ">epoch=60, txAprend=0.100, erro=0.297\n",
      ">epoch=70, txAprend=0.100, erro=0.293\n",
      ">epoch=80, txAprend=0.100, erro=0.290\n",
      ">epoch=90, txAprend=0.100, erro=0.286\n",
      ">epoch=100, txAprend=0.100, erro=0.283\n",
      ">epoch=110, txAprend=0.100, erro=0.279\n",
      ">epoch=120, txAprend=0.100, erro=0.276\n",
      ">epoch=130, txAprend=0.100, erro=0.272\n",
      ">epoch=140, txAprend=0.100, erro=0.269\n",
      ">epoch=150, txAprend=0.100, erro=0.265\n",
      ">epoch=160, txAprend=0.100, erro=0.262\n",
      ">epoch=170, txAprend=0.100, erro=0.259\n",
      ">epoch=180, txAprend=0.100, erro=0.255\n",
      ">epoch=190, txAprend=0.100, erro=0.252\n",
      ">epoch=200, txAprend=0.100, erro=0.249\n",
      ">epoch=210, txAprend=0.100, erro=0.245\n",
      ">epoch=220, txAprend=0.100, erro=0.242\n",
      ">epoch=230, txAprend=0.100, erro=0.239\n",
      ">epoch=240, txAprend=0.100, erro=0.236\n",
      ">epoch=250, txAprend=0.100, erro=0.233\n",
      ">epoch=260, txAprend=0.100, erro=0.230\n",
      ">epoch=270, txAprend=0.100, erro=0.227\n",
      ">epoch=280, txAprend=0.100, erro=0.224\n",
      ">epoch=290, txAprend=0.100, erro=0.221\n"
     ]
    }
   ],
   "source": [
    "errors3= treinar_rede(MLP3,dataset, 0.1,300,1)"
   ]
  },
  {
   "cell_type": "markdown",
   "metadata": {},
   "source": [
    "##### Treino para 400 epocas"
   ]
  },
  {
   "cell_type": "code",
   "execution_count": 48,
   "metadata": {},
   "outputs": [],
   "source": [
    "MLP4 = inicializarMLP(3,10,1)"
   ]
  },
  {
   "cell_type": "code",
   "execution_count": 49,
   "metadata": {},
   "outputs": [
    {
     "name": "stdout",
     "output_type": "stream",
     "text": [
      ">epoch=0, txAprend=0.100, erro=3.353\n",
      ">epoch=10, txAprend=0.100, erro=2.886\n",
      ">epoch=20, txAprend=0.100, erro=0.436\n",
      ">epoch=30, txAprend=0.100, erro=0.428\n",
      ">epoch=40, txAprend=0.100, erro=0.424\n",
      ">epoch=50, txAprend=0.100, erro=0.420\n",
      ">epoch=60, txAprend=0.100, erro=0.417\n",
      ">epoch=70, txAprend=0.100, erro=0.413\n",
      ">epoch=80, txAprend=0.100, erro=0.409\n",
      ">epoch=90, txAprend=0.100, erro=0.406\n",
      ">epoch=100, txAprend=0.100, erro=0.402\n",
      ">epoch=110, txAprend=0.100, erro=0.398\n",
      ">epoch=120, txAprend=0.100, erro=0.394\n",
      ">epoch=130, txAprend=0.100, erro=0.390\n",
      ">epoch=140, txAprend=0.100, erro=0.386\n",
      ">epoch=150, txAprend=0.100, erro=0.382\n",
      ">epoch=160, txAprend=0.100, erro=0.378\n",
      ">epoch=170, txAprend=0.100, erro=0.374\n",
      ">epoch=180, txAprend=0.100, erro=0.370\n",
      ">epoch=190, txAprend=0.100, erro=0.365\n",
      ">epoch=200, txAprend=0.100, erro=0.361\n",
      ">epoch=210, txAprend=0.100, erro=0.356\n",
      ">epoch=220, txAprend=0.100, erro=0.352\n",
      ">epoch=230, txAprend=0.100, erro=0.347\n",
      ">epoch=240, txAprend=0.100, erro=0.342\n",
      ">epoch=250, txAprend=0.100, erro=0.338\n",
      ">epoch=260, txAprend=0.100, erro=0.333\n",
      ">epoch=270, txAprend=0.100, erro=0.328\n",
      ">epoch=280, txAprend=0.100, erro=0.323\n",
      ">epoch=290, txAprend=0.100, erro=0.317\n",
      ">epoch=300, txAprend=0.100, erro=0.312\n",
      ">epoch=310, txAprend=0.100, erro=0.307\n",
      ">epoch=320, txAprend=0.100, erro=0.302\n",
      ">epoch=330, txAprend=0.100, erro=0.296\n",
      ">epoch=340, txAprend=0.100, erro=0.291\n",
      ">epoch=350, txAprend=0.100, erro=0.286\n",
      ">epoch=360, txAprend=0.100, erro=0.280\n",
      ">epoch=370, txAprend=0.100, erro=0.275\n",
      ">epoch=380, txAprend=0.100, erro=0.269\n",
      ">epoch=390, txAprend=0.100, erro=0.264\n"
     ]
    }
   ],
   "source": [
    "errors4 = treinar_rede(MLP4,dataset, 0.1,400,1);"
   ]
  },
  {
   "cell_type": "markdown",
   "metadata": {},
   "source": [
    "##### Treino para 500 epocas"
   ]
  },
  {
   "cell_type": "code",
   "execution_count": 25,
   "metadata": {},
   "outputs": [],
   "source": [
    "MLP5 = inicializarMLP(3,10,1)"
   ]
  },
  {
   "cell_type": "code",
   "execution_count": 42,
   "metadata": {},
   "outputs": [
    {
     "name": "stdout",
     "output_type": "stream",
     "text": [
      ">epoch=0, txAprend=0.100, erro=0.084\n",
      ">epoch=10, txAprend=0.100, erro=0.083\n",
      ">epoch=20, txAprend=0.100, erro=0.081\n",
      ">epoch=30, txAprend=0.100, erro=0.080\n",
      ">epoch=40, txAprend=0.100, erro=0.079\n",
      ">epoch=50, txAprend=0.100, erro=0.078\n",
      ">epoch=60, txAprend=0.100, erro=0.077\n",
      ">epoch=70, txAprend=0.100, erro=0.076\n",
      ">epoch=80, txAprend=0.100, erro=0.075\n",
      ">epoch=90, txAprend=0.100, erro=0.074\n",
      ">epoch=100, txAprend=0.100, erro=0.073\n",
      ">epoch=110, txAprend=0.100, erro=0.071\n",
      ">epoch=120, txAprend=0.100, erro=0.070\n",
      ">epoch=130, txAprend=0.100, erro=0.069\n",
      ">epoch=140, txAprend=0.100, erro=0.068\n",
      ">epoch=150, txAprend=0.100, erro=0.068\n",
      ">epoch=160, txAprend=0.100, erro=0.067\n",
      ">epoch=170, txAprend=0.100, erro=0.066\n",
      ">epoch=180, txAprend=0.100, erro=0.065\n",
      ">epoch=190, txAprend=0.100, erro=0.064\n",
      ">epoch=200, txAprend=0.100, erro=0.063\n",
      ">epoch=210, txAprend=0.100, erro=0.062\n",
      ">epoch=220, txAprend=0.100, erro=0.061\n",
      ">epoch=230, txAprend=0.100, erro=0.060\n",
      ">epoch=240, txAprend=0.100, erro=0.059\n",
      ">epoch=250, txAprend=0.100, erro=0.058\n",
      ">epoch=260, txAprend=0.100, erro=0.058\n",
      ">epoch=270, txAprend=0.100, erro=0.057\n",
      ">epoch=280, txAprend=0.100, erro=0.056\n",
      ">epoch=290, txAprend=0.100, erro=0.055\n",
      ">epoch=300, txAprend=0.100, erro=0.054\n",
      ">epoch=310, txAprend=0.100, erro=0.054\n",
      ">epoch=320, txAprend=0.100, erro=0.053\n",
      ">epoch=330, txAprend=0.100, erro=0.052\n",
      ">epoch=340, txAprend=0.100, erro=0.051\n",
      ">epoch=350, txAprend=0.100, erro=0.050\n",
      ">epoch=360, txAprend=0.100, erro=0.050\n",
      ">epoch=370, txAprend=0.100, erro=0.049\n",
      ">epoch=380, txAprend=0.100, erro=0.048\n",
      ">epoch=390, txAprend=0.100, erro=0.047\n",
      ">epoch=400, txAprend=0.100, erro=0.047\n",
      ">epoch=410, txAprend=0.100, erro=0.046\n",
      ">epoch=420, txAprend=0.100, erro=0.045\n",
      ">epoch=430, txAprend=0.100, erro=0.045\n",
      ">epoch=440, txAprend=0.100, erro=0.044\n",
      ">epoch=450, txAprend=0.100, erro=0.043\n",
      ">epoch=460, txAprend=0.100, erro=0.043\n",
      ">epoch=470, txAprend=0.100, erro=0.042\n",
      ">epoch=480, txAprend=0.100, erro=0.041\n",
      ">epoch=490, txAprend=0.100, erro=0.041\n"
     ]
    }
   ],
   "source": [
    "errors5= treinar_rede(MLP5,dataset, 0.1,500,1)"
   ]
  },
  {
   "cell_type": "markdown",
   "metadata": {},
   "source": [
    "### 3)---->"
   ]
  },
  {
   "cell_type": "code",
   "execution_count": 43,
   "metadata": {},
   "outputs": [],
   "source": [
    "import matplotlib.pyplot as plt"
   ]
  },
  {
   "cell_type": "markdown",
   "metadata": {},
   "source": [
    "#### Plot do gráfico para 400 iterações"
   ]
  },
  {
   "cell_type": "code",
   "execution_count": 47,
   "metadata": {},
   "outputs": [
    {
     "data": {
      "text/plain": [
       "[<matplotlib.lines.Line2D at 0x269bedf8400>]"
      ]
     },
     "execution_count": 47,
     "metadata": {},
     "output_type": "execute_result"
    },
    {
     "data": {
      "image/png": "[encoded data removed]",
      "text/plain": [
       "<Figure size 432x288 with 1 Axes>"
      ]
     },
     "metadata": {
      "needs_background": "light"
     },
     "output_type": "display_data"
    }
   ],
   "source": [
    "epocas = np.arange(400)\n",
    "\n",
    "plt.plot(epocas,errors4)"
   ]
  },
  {
   "cell_type": "markdown",
   "metadata": {},
   "source": [
    "#### Plot do gráfico para 500 iterações"
   ]
  },
  {
   "cell_type": "code",
   "execution_count": 50,
   "metadata": {},
   "outputs": [
    {
     "data": {
      "text/plain": [
       "[<matplotlib.lines.Line2D at 0x269beeac250>]"
      ]
     },
     "execution_count": 50,
     "metadata": {},
     "output_type": "execute_result"
    },
    {
     "data": {
      "image/png": "[encoded data removed]",
      "text/plain": [
       "<Figure size 432x288 with 1 Axes>"
      ]
     },
     "metadata": {
      "needs_background": "light"
     },
     "output_type": "display_data"
    }
   ],
   "source": [
    "epocas = np.arange(500)\n",
    "\n",
    "plt.plot(epocas,errors5)"
   ]
  },
  {
   "cell_type": "markdown",
   "metadata": {},
   "source": [
    "### 5) ---->"
   ]
  },
  {
   "cell_type": "markdown",
   "metadata": {},
   "source": [
    "#### Para essa questão precisaremos de uma função predict, porém como não é desejado que seja um aplicada uma função de ativação nas saídas irei apenas passar os inputs pera rede e obter seus resultados brutos"
   ]
  },
  {
   "cell_type": "code",
   "execution_count": 54,
   "metadata": {},
   "outputs": [],
   "source": [
    "def predict_data(network,dataset):\n",
    "    outputs = []\n",
    "    for row in dataset:\n",
    "        row_ = row[:-1]\n",
    "        outputs.append(forward_propagate(network,row_))\n",
    "    return outputs"
   ]
  },
  {
   "cell_type": "code",
   "execution_count": 81,
   "metadata": {},
   "outputs": [],
   "source": [
    "d = dataset[:,3]\n",
    "d = d.reshape(20,1)"
   ]
  },
  {
   "cell_type": "markdown",
   "metadata": {},
   "source": [
    "#### A seguir funções para calcular o erro relativo médio e variância com o print das predicoes"
   ]
  },
  {
   "cell_type": "code",
   "execution_count": 96,
   "metadata": {},
   "outputs": [
    {
     "name": "stdout",
     "output_type": "stream",
     "text": [
      "Predicoes:\n",
      " [[0.60874784]\n",
      " [0.60859766]\n",
      " [0.60317656]\n",
      " [0.62461054]\n",
      " [0.58939824]\n",
      " [0.63198373]\n",
      " [0.62254175]\n",
      " [0.62130614]\n",
      " [0.61329885]\n",
      " [0.62274781]\n",
      " [0.61956328]\n",
      " [0.6218762 ]\n",
      " [0.58596153]\n",
      " [0.62414419]\n",
      " [0.60925702]\n",
      " [0.63873514]\n",
      " [0.62361837]\n",
      " [0.6063554 ]\n",
      " [0.63135857]\n",
      " [0.61307168]]\n",
      "Erro Relativo Medio:\n",
      " 2.5631418488733515 % \n",
      " Variância:\n",
      " 1.8226739564214625 %\n"
     ]
    }
   ],
   "source": [
    "y_1= predict_data(MLP1,dataset)\n",
    "y_1 = np.array(y_1)\n",
    "mean_error = (1 - (sum(d/y_1))/len(y_1))*100\n",
    "var = (np.var(d-y_1))*100\n",
    "\n",
    "print(\"Predicoes:\\n\", y_1)\n",
    "print('Erro Relativo Medio:\\n',mean_error[0],'%','\\n','Variância:\\n',var,'%')"
   ]
  },
  {
   "cell_type": "code",
   "execution_count": 97,
   "metadata": {},
   "outputs": [
    {
     "name": "stdout",
     "output_type": "stream",
     "text": [
      "Predicoes:\n",
      " [[0.5688626 ]\n",
      " [0.62163339]\n",
      " [0.56927383]\n",
      " [0.66057135]\n",
      " [0.55660163]\n",
      " [0.64208797]\n",
      " [0.62700923]\n",
      " [0.59954515]\n",
      " [0.63394388]\n",
      " [0.60826028]\n",
      " [0.60212149]\n",
      " [0.65132117]\n",
      " [0.54417387]\n",
      " [0.65237766]\n",
      " [0.57292423]\n",
      " [0.6645396 ]\n",
      " [0.61605437]\n",
      " [0.59431686]\n",
      " [0.67097092]\n",
      " [0.58520937]]\n",
      "Erro Relativo Medio:\n",
      " 2.4143102389466264 % \n",
      " Variância:\n",
      " 1.366663213083071 %\n"
     ]
    }
   ],
   "source": [
    "y_2= predict_data(MLP2,dataset)\n",
    "y_2 = np.array(y_2)\n",
    "mean_error = (1 - (sum(d/y_2))/len(y_2))*100\n",
    "var = (np.var(d-y_2))*100\n",
    "\n",
    "print(\"Predicoes:\\n\", y_2)\n",
    "print('Erro Relativo Medio:\\n',mean_error[0],'%','\\n','Variância:\\n',var,'%')"
   ]
  },
  {
   "cell_type": "code",
   "execution_count": 98,
   "metadata": {},
   "outputs": [
    {
     "name": "stdout",
     "output_type": "stream",
     "text": [
      "Predicoes:\n",
      " [[0.53883656]\n",
      " [0.62637241]\n",
      " [0.53854141]\n",
      " [0.69096432]\n",
      " [0.52264486]\n",
      " [0.65773485]\n",
      " [0.63700614]\n",
      " [0.58436299]\n",
      " [0.64853731]\n",
      " [0.60333029]\n",
      " [0.58856672]\n",
      " [0.67589726]\n",
      " [0.50236405]\n",
      " [0.67393561]\n",
      " [0.54636885]\n",
      " [0.69498664]\n",
      " [0.60785767]\n",
      " [0.57946621]\n",
      " [0.70658   ]\n",
      " [0.56653623]]\n",
      "Erro Relativo Medio:\n",
      " 2.172392351722363 % \n",
      " Variância:\n",
      " 1.0539752599241008 %\n"
     ]
    }
   ],
   "source": [
    "y_3= predict_data(MLP3,dataset)\n",
    "y_3 = np.array(y_3)\n",
    "mean_error = (1 - (sum(d/y_3))/len(y_3))*100\n",
    "var = (np.var(d-y_3))*100\n",
    "\n",
    "print(\"Predicoes:\\n\", y_3)\n",
    "print('Erro Relativo Medio:\\n',mean_error[0],'%','\\n','Variância:\\n',var,'%')"
   ]
  },
  {
   "cell_type": "code",
   "execution_count": 101,
   "metadata": {},
   "outputs": [
    {
     "name": "stdout",
     "output_type": "stream",
     "text": [
      "Predicoes:\n",
      " [[0.56864474]\n",
      " [0.61507798]\n",
      " [0.57040715]\n",
      " [0.65625859]\n",
      " [0.54147097]\n",
      " [0.64601814]\n",
      " [0.62104756]\n",
      " [0.60553029]\n",
      " [0.62243418]\n",
      " [0.60829876]\n",
      " [0.60777608]\n",
      " [0.64627917]\n",
      " [0.53273854]\n",
      " [0.65383501]\n",
      " [0.5705012 ]\n",
      " [0.67046384]\n",
      " [0.62467676]\n",
      " [0.59345395]\n",
      " [0.67209266]\n",
      " [0.58240332]]\n",
      "Erro Relativo Medio:\n",
      " 2.3047131524116415 % \n",
      " Variância:\n",
      " 1.248472199419663 %\n"
     ]
    }
   ],
   "source": [
    "y_4= predict_data(MLP4,dataset)\n",
    "y_4 = np.array(y_4)\n",
    "mean_error = (1 - (sum(d/y_4))/len(y_4))*100\n",
    "var = (np.var(d-y_4))*100\n",
    "\n",
    "print(\"Predicoes:\\n\", y_4)\n",
    "print('Erro Relativo Medio:\\n',mean_error[0],'%','\\n','Variância:\\n',var,'%')"
   ]
  },
  {
   "cell_type": "code",
   "execution_count": 102,
   "metadata": {},
   "outputs": [
    {
     "name": "stdout",
     "output_type": "stream",
     "text": [
      "Predicoes:\n",
      " [[0.4863856 ]\n",
      " [0.61389883]\n",
      " [0.50377774]\n",
      " [0.72467272]\n",
      " [0.37349221]\n",
      " [0.71464828]\n",
      " [0.61421469]\n",
      " [0.6161955 ]\n",
      " [0.61126979]\n",
      " [0.5967218 ]\n",
      " [0.62576163]\n",
      " [0.6970957 ]\n",
      " [0.36143533]\n",
      " [0.74302705]\n",
      " [0.48363801]\n",
      " [0.77759528]\n",
      " [0.68976676]\n",
      " [0.56980552]\n",
      " [0.77777216]\n",
      " [0.51564449]]\n",
      "Erro Relativo Medio:\n",
      " 1.355304052932882 % \n",
      " Variância:\n",
      " 0.1943431499383697 %\n"
     ]
    }
   ],
   "source": [
    "y_5= predict_data(MLP5,dataset)\n",
    "y_5 = np.array(y_5)\n",
    "mean_error = (1 - (sum(d/y_5))/len(y_5))*100\n",
    "var = (np.var(d-y_5))*100\n",
    "\n",
    "print(\"Predicoes:\\n\", y_5)\n",
    "print('Erro Relativo Medio:\\n',mean_error[0],'%','\\n','Variância:\\n',var,'%')"
   ]
  }
 ],
 "metadata": {
  "kernelspec": {
   "display_name": "Python 3",
   "language": "python",
   "name": "python3"
  },
  "language_info": {
   "codemirror_mode": {
    "name": "ipython",
    "version": 3
   },
   "file_extension": ".py",
   "mimetype": "text/x-python",
   "name": "python",
   "nbconvert_exporter": "python",
   "pygments_lexer": "ipython3",
   "version": "3.8.3"
  }
 },
 "nbformat": 4,
 "nbformat_minor": 4
}
