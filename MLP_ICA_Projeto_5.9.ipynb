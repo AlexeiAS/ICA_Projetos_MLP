{
 "cells": [
  {
   "cell_type": "markdown",
   "metadata": {},
   "source": [
    "#### Alexei Alves de Souza - 398611\n",
    "#### No projeto anterior, não possuiamos uma abstração para os valores de saídas para divisão em classes específicas.\n",
    "#### Já no projeto 5.9 possuímos uma padronização, no caso para os tipos de conservantes, o que permite que usemos redes mais robustas já bastante otimizadas.\n",
    "#### No caso será utilizado nessa análise a rede MLP fornecida pela lib sklearn."
   ]
  },
  {
   "cell_type": "markdown",
   "metadata": {},
   "source": [
    "#### Inicialmente será carregado o dataset utilizando a  lib pandas"
   ]
  },
  {
   "cell_type": "code",
   "execution_count": 1,
   "metadata": {},
   "outputs": [],
   "source": [
    "import pandas as pd\n",
    "import numpy as np\n",
    "import time # Lib utilizada para medir o tempo de execução"
   ]
  },
  {
   "cell_type": "code",
   "execution_count": 2,
   "metadata": {},
   "outputs": [
    {
     "data": {
      "text/html": [
       "<div>\n",
       "<style scoped>\n",
       "    .dataframe tbody tr th:only-of-type {\n",
       "        vertical-align: middle;\n",
       "    }\n",
       "\n",
       "    .dataframe tbody tr th {\n",
       "        vertical-align: top;\n",
       "    }\n",
       "\n",
       "    .dataframe thead th {\n",
       "        text-align: right;\n",
       "    }\n",
       "</style>\n",
       "<table border=\"1\" class=\"dataframe\">\n",
       "  <thead>\n",
       "    <tr style=\"text-align: right;\">\n",
       "      <th></th>\n",
       "      <th>x1</th>\n",
       "      <th>x2</th>\n",
       "      <th>x3</th>\n",
       "      <th>x4</th>\n",
       "      <th>d1</th>\n",
       "      <th>d2</th>\n",
       "      <th>d3</th>\n",
       "    </tr>\n",
       "  </thead>\n",
       "  <tbody>\n",
       "    <tr>\n",
       "      <th>0</th>\n",
       "      <td>0.8622</td>\n",
       "      <td>0.7101</td>\n",
       "      <td>0.6236</td>\n",
       "      <td>0.7894</td>\n",
       "      <td>0</td>\n",
       "      <td>0</td>\n",
       "      <td>1</td>\n",
       "    </tr>\n",
       "    <tr>\n",
       "      <th>1</th>\n",
       "      <td>0.2741</td>\n",
       "      <td>0.1552</td>\n",
       "      <td>0.1333</td>\n",
       "      <td>0.1516</td>\n",
       "      <td>1</td>\n",
       "      <td>0</td>\n",
       "      <td>0</td>\n",
       "    </tr>\n",
       "    <tr>\n",
       "      <th>2</th>\n",
       "      <td>0.6772</td>\n",
       "      <td>0.8516</td>\n",
       "      <td>0.6543</td>\n",
       "      <td>0.7573</td>\n",
       "      <td>0</td>\n",
       "      <td>0</td>\n",
       "      <td>1</td>\n",
       "    </tr>\n",
       "    <tr>\n",
       "      <th>3</th>\n",
       "      <td>0.2178</td>\n",
       "      <td>0.5039</td>\n",
       "      <td>0.6415</td>\n",
       "      <td>0.5039</td>\n",
       "      <td>0</td>\n",
       "      <td>1</td>\n",
       "      <td>0</td>\n",
       "    </tr>\n",
       "    <tr>\n",
       "      <th>4</th>\n",
       "      <td>0.7260</td>\n",
       "      <td>0.7500</td>\n",
       "      <td>0.7007</td>\n",
       "      <td>0.4953</td>\n",
       "      <td>0</td>\n",
       "      <td>0</td>\n",
       "      <td>1</td>\n",
       "    </tr>\n",
       "  </tbody>\n",
       "</table>\n",
       "</div>"
      ],
      "text/plain": [
       "       x1      x2      x3      x4  d1  d2  d3\n",
       "0  0.8622  0.7101  0.6236  0.7894   0   0   1\n",
       "1  0.2741  0.1552  0.1333  0.1516   1   0   0\n",
       "2  0.6772  0.8516  0.6543  0.7573   0   0   1\n",
       "3  0.2178  0.5039  0.6415  0.5039   0   1   0\n",
       "4  0.7260  0.7500  0.7007  0.4953   0   0   1"
      ]
     },
     "execution_count": 2,
     "metadata": {},
     "output_type": "execute_result"
    }
   ],
   "source": [
    "dataset = pd.read_excel('Tabela#5.5_RNA.xls')\n",
    "dataset.head(5)"
   ]
  },
  {
   "cell_type": "code",
   "execution_count": 3,
   "metadata": {},
   "outputs": [],
   "source": [
    "data = np.array(dataset)\n",
    "inputs = data[:,0:4]\n",
    "labels = data[:,4:7]"
   ]
  },
  {
   "cell_type": "markdown",
   "metadata": {},
   "source": [
    "#### Observamos que não é fornecido um dataset de treinamento, assim dividiremos o dataset fornecido na tabela 5.5 em train e test"
   ]
  },
  {
   "cell_type": "code",
   "execution_count": 4,
   "metadata": {},
   "outputs": [],
   "source": [
    "from sklearn.model_selection import train_test_split"
   ]
  },
  {
   "cell_type": "code",
   "execution_count": 5,
   "metadata": {},
   "outputs": [],
   "source": [
    "(train,test,ltrain,ltest) = train_test_split(inputs,labels,test_size = 0.2)"
   ]
  },
  {
   "cell_type": "markdown",
   "metadata": {},
   "source": [
    "#### 1) ---> classificador MLP utilizando a lib sklearn"
   ]
  },
  {
   "cell_type": "code",
   "execution_count": 6,
   "metadata": {},
   "outputs": [],
   "source": [
    "from sklearn.neural_network import MLPClassifier"
   ]
  },
  {
   "cell_type": "markdown",
   "metadata": {},
   "source": [
    "##### tol = 1e-6, representa 10^-6\n",
    "##### learning_rate_init=0.01, inicialização da taxa de aprendizagem\n",
    "##### activation = 'logistic' , representa a funcao de ativacao sigmoide\n",
    "##### hidden_layer_sizes=15, numero de neuroinios na camada escondida\n",
    "##### max_iter = 10000, define o numero maximo de iteracoes\n",
    "##### momentum = 0.0, note que como o algoritimo do sklearn já é otimizado ele usa por default valores adequados do momentum, assim setamos o valor em 0 para simular uma situação real\n",
    "##### solver = 'sgd', Utilizamos a descida do gradiente estocástico"
   ]
  },
  {
   "cell_type": "code",
   "execution_count": 7,
   "metadata": {},
   "outputs": [],
   "source": [
    "MLP = MLPClassifier(hidden_layer_sizes=15,activation = 'logistic', tol=1e-6,learning_rate_init=0.1,\n",
    "                    max_iter=100000,momentum=0.0, solver='sgd')"
   ]
  },
  {
   "cell_type": "code",
   "execution_count": 8,
   "metadata": {},
   "outputs": [],
   "source": [
    "start_time1 = time.time() \n",
    "#------------------------\n",
    "MLP.fit(train,ltrain)\n",
    "#-------------------------\n",
    "end_time1 = time.time()\n",
    "\n",
    "t_exec1 = end_time1 - start_time1\n"
   ]
  },
  {
   "cell_type": "code",
   "execution_count": 9,
   "metadata": {},
   "outputs": [
    {
     "name": "stdout",
     "output_type": "stream",
     "text": [
      "N de iteracoes p/ convergencia:\n",
      " 17560  iteracoes\n"
     ]
    }
   ],
   "source": [
    "print('N de iteracoes p/ convergencia:\\n',MLP.n_iter_,' iteracoes')"
   ]
  },
  {
   "cell_type": "markdown",
   "metadata": {},
   "source": [
    "#### 2)---> MLP com momentun de 0,9"
   ]
  },
  {
   "cell_type": "markdown",
   "metadata": {},
   "source": [
    "##### momentum = 0.9, setamos o valor do momentum na inicialização para 0.9"
   ]
  },
  {
   "cell_type": "code",
   "execution_count": 10,
   "metadata": {},
   "outputs": [],
   "source": [
    "MLP_2 = MLPClassifier(hidden_layer_sizes=15,activation = 'logistic',tol=1e-6,learning_rate_init=0.1,\n",
    "                      max_iter=10000,momentum = 0.9,solver='sgd')"
   ]
  },
  {
   "cell_type": "code",
   "execution_count": 11,
   "metadata": {},
   "outputs": [],
   "source": [
    "start_time2 = time.time() \n",
    "#------------------------\n",
    "MLP_2.fit(train,ltrain)\n",
    "#-------------------------\n",
    "end_time2 = time.time()\n",
    "\n",
    "t_exec2 = end_time2 - start_time2"
   ]
  },
  {
   "cell_type": "code",
   "execution_count": 12,
   "metadata": {},
   "outputs": [
    {
     "name": "stdout",
     "output_type": "stream",
     "text": [
      "N de iteracoes p/ convergencia:\n",
      " 3938  iteracoes\n"
     ]
    }
   ],
   "source": [
    "print('N de iteracoes p/ convergencia:\\n',MLP_2.n_iter_,' iteracoes')"
   ]
  },
  {
   "cell_type": "markdown",
   "metadata": {},
   "source": [
    "#### 3)---> Plot dos gráficos"
   ]
  },
  {
   "cell_type": "code",
   "execution_count": 13,
   "metadata": {},
   "outputs": [],
   "source": [
    "import matplotlib.pyplot as plt"
   ]
  },
  {
   "cell_type": "markdown",
   "metadata": {},
   "source": [
    "#### Plot T1"
   ]
  },
  {
   "cell_type": "code",
   "execution_count": 14,
   "metadata": {},
   "outputs": [],
   "source": [
    "niter = np.arange(MLP.n_iter_)\n",
    "loss = MLP.loss_curve_"
   ]
  },
  {
   "cell_type": "code",
   "execution_count": 26,
   "metadata": {},
   "outputs": [
    {
     "name": "stdout",
     "output_type": "stream",
     "text": [
      "Tempo de execucao: 5.143 segundos\n"
     ]
    },
    {
     "data": {
      "image/png": "[encoded data removed]",
      "text/plain": [
       "<Figure size 360x360 with 1 Axes>"
      ]
     },
     "metadata": {
      "needs_background": "light"
     },
     "output_type": "display_data"
    }
   ],
   "source": [
    "plt.figure(figsize = (5,5))\n",
    "plt.plot(niter,loss)\n",
    "plt.title('T1')\n",
    "print('Tempo de execucao:', np.round(t_exec1,3),'segundos')"
   ]
  },
  {
   "cell_type": "markdown",
   "metadata": {},
   "source": [
    "#### Plot T2"
   ]
  },
  {
   "cell_type": "code",
   "execution_count": 16,
   "metadata": {},
   "outputs": [],
   "source": [
    "niter2 = np.arange(MLP_2.n_iter_)\n",
    "loss2 = MLP_2.loss_curve_"
   ]
  },
  {
   "cell_type": "code",
   "execution_count": 29,
   "metadata": {},
   "outputs": [
    {
     "name": "stdout",
     "output_type": "stream",
     "text": [
      "Tempo de execucao: 1.128 segundos\n"
     ]
    },
    {
     "data": {
      "image/png": "[encoded data removed]",
      "text/plain": [
       "<Figure size 360x360 with 1 Axes>"
      ]
     },
     "metadata": {
      "needs_background": "light"
     },
     "output_type": "display_data"
    }
   ],
   "source": [
    "plt.figure(figsize = (5,5))\n",
    "plt.plot(niter2,loss2)\n",
    "plt.title('T2: Momentun=0.9')\n",
    "print('Tempo de execucao:', np.round(t_exec2,3), 'segundos')"
   ]
  },
  {
   "cell_type": "markdown",
   "metadata": {},
   "source": [
    "#### Observamos que com a inserção do momentun adequado, temos uma convergência bem mais rápida da rede"
   ]
  },
  {
   "cell_type": "markdown",
   "metadata": {},
   "source": [
    "#### 4)----> No Modelo do sklearn para o MLP o método predict já realiza a ativação das funções de acordo com as respectivas classes, ainda que a função predict_proba retorne a probabilidade das saídas a qual pode ser utilizada para o requerido na questão.\n",
    "#### Assim, utilizamos os valores obtidos pelo método predict_proba na função de ativação."
   ]
  },
  {
   "cell_type": "markdown",
   "metadata": {},
   "source": [
    "#### Nesse codigo é recebido um vetor ou array de entradas, sendo este redimensionando para uma lista para análise elemento por elemento e classificação, e no final redimensional para a dimensão original."
   ]
  },
  {
   "cell_type": "code",
   "execution_count": 18,
   "metadata": {},
   "outputs": [],
   "source": [
    "def myPredict(inputs):\n",
    "    outputs = []\n",
    "    #Obtem as dimensoes\n",
    "    x= inputs.shape[0]\n",
    "    y= inputs.shape[1]\n",
    "    \n",
    "    #Redimensiona para analise elemento por elemento\n",
    "    new_inputs = inputs.copy().reshape((x*y,))\n",
    "    for i in range(len(new_inputs)):\n",
    "        if new_inputs[i] >= 0.5:\n",
    "            new_inputs[i] = 1\n",
    "        else :\n",
    "            new_inputs[i] = 0\n",
    "    \n",
    "    #Redimensiona o vetor para as dimensoes originais\n",
    "    new_inputs = new_inputs.reshape((x,y))\n",
    "    return new_inputs\n",
    "        \n",
    "    "
   ]
  },
  {
   "cell_type": "code",
   "execution_count": 19,
   "metadata": {},
   "outputs": [
    {
     "name": "stdout",
     "output_type": "stream",
     "text": [
      "Mypredict\n",
      "[[1. 0. 0.]\n",
      " [0. 0. 1.]\n",
      " [1. 0. 0.]\n",
      " [0. 0. 1.]\n",
      " [0. 0. 1.]\n",
      " [0. 0. 1.]\n",
      " [1. 0. 0.]\n",
      " [0. 0. 1.]\n",
      " [0. 1. 0.]\n",
      " [1. 0. 0.]\n",
      " [0. 1. 0.]\n",
      " [0. 1. 0.]\n",
      " [0. 0. 1.]\n",
      " [1. 0. 0.]]\n",
      "----------------------\n",
      "Real labels\n",
      "[[1. 0. 0.]\n",
      " [0. 0. 1.]\n",
      " [1. 0. 0.]\n",
      " [0. 0. 1.]\n",
      " [0. 0. 1.]\n",
      " [0. 0. 1.]\n",
      " [1. 0. 0.]\n",
      " [0. 0. 1.]\n",
      " [0. 1. 0.]\n",
      " [1. 0. 0.]\n",
      " [0. 1. 0.]\n",
      " [0. 1. 0.]\n",
      " [0. 0. 1.]\n",
      " [1. 0. 0.]]\n"
     ]
    }
   ],
   "source": [
    "inputs_= MLP_2.predict_proba(train)\n",
    "print('Mypredict')\n",
    "print(myPredict(inputs_))\n",
    "print('----------------------')\n",
    "print('Real labels')\n",
    "print(ltrain)"
   ]
  },
  {
   "cell_type": "markdown",
   "metadata": {},
   "source": [
    "#### 5)--> Validando a rede no dataset de teste criado anteriormente temos, utilizando a função score já implementada no sklearn:"
   ]
  },
  {
   "cell_type": "code",
   "execution_count": 30,
   "metadata": {},
   "outputs": [
    {
     "name": "stdout",
     "output_type": "stream",
     "text": [
      "Precisao:\n",
      " 100.0 %\n"
     ]
    }
   ],
   "source": [
    "print('Precisao:\\n',MLP_2.score(test,ltest)*100,'%')"
   ]
  },
  {
   "cell_type": "code",
   "execution_count": 31,
   "metadata": {},
   "outputs": [
    {
     "name": "stdout",
     "output_type": "stream",
     "text": [
      "Precisao:\n",
      " 100.0 %\n"
     ]
    }
   ],
   "source": [
    "print('Precisao:\\n',MLP.score(test,ltest)*100,'%')"
   ]
  },
  {
   "cell_type": "markdown",
   "metadata": {},
   "source": [
    "#### Logo temos uma taxa de acerto de 100%, porém dependendo dos dados utiizados como treinamento  essa taxa poderá ser menor dado a situação em que a quantidade de dados é relativamente baixa, assim uma validação interessante seria aplicar o método da validação cruzada para determinar os dados que 'representam' o conjunto."
   ]
  },
  {
   "cell_type": "code",
   "execution_count": 22,
   "metadata": {},
   "outputs": [],
   "source": [
    "from prettytable import PrettyTable"
   ]
  },
  {
   "cell_type": "code",
   "execution_count": 23,
   "metadata": {},
   "outputs": [],
   "source": [
    "Mytable = PrettyTable([\"x1 x2 x3\",\"yreal\",\"ypredito\"])\n",
    "ypredito = myPredict(MLP.predict_proba(test))"
   ]
  },
  {
   "cell_type": "code",
   "execution_count": 24,
   "metadata": {},
   "outputs": [],
   "source": [
    "for i in range(len(test)):\n",
    "    Mytable.add_row([test[i],ltest[i],ypredito[i]])"
   ]
  },
  {
   "cell_type": "code",
   "execution_count": 25,
   "metadata": {},
   "outputs": [
    {
     "name": "stdout",
     "output_type": "stream",
     "text": [
      "+-------------------------------+------------+------------+\n",
      "|            x1 x2 x3           |   yreal    |  ypredito  |\n",
      "+-------------------------------+------------+------------+\n",
      "| [0.1187 0.2568 0.314  0.3037] | [1. 0. 0.] | [1. 0. 0.] |\n",
      "| [0.726  0.75   0.7007 0.4953] | [0. 0. 1.] | [0. 0. 1.] |\n",
      "| [0.7325 0.4761 0.3888 0.5683] | [0. 1. 0.] | [0. 1. 0.] |\n",
      "| [0.5682 0.5683 0.5054 0.4426] | [0. 1. 0.] | [0. 1. 0.] |\n",
      "+-------------------------------+------------+------------+\n"
     ]
    }
   ],
   "source": [
    "print(Mytable)"
   ]
  }
 ],
 "metadata": {
  "kernelspec": {
   "display_name": "Python 3",
   "language": "python",
   "name": "python3"
  },
  "language_info": {
   "codemirror_mode": {
    "name": "ipython",
    "version": 3
   },
   "file_extension": ".py",
   "mimetype": "text/x-python",
   "name": "python",
   "nbconvert_exporter": "python",
   "pygments_lexer": "ipython3",
   "version": "3.8.3"
  }
 },
 "nbformat": 4,
 "nbformat_minor": 4
}
